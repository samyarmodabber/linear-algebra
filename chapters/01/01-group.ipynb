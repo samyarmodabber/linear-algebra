{
 "cells": [
  {
   "cell_type": "markdown",
   "metadata": {},
   "source": [
    "# Group"
   ]
  },
  {
   "cell_type": "markdown",
   "metadata": {},
   "source": [
    "## Theory"
   ]
  },
  {
   "cell_type": "markdown",
   "metadata": {},
   "source": [
    "### Definitions\n",
    "\n",
    "**Binary operation**\n",
    "\n",
    "A binary operation on a set G is a function  .$\\circ :G\\times G\\to G$.  \n",
    "\n",
    "**Group**\n",
    "\n",
    "A group is a set together a binary operation $\\circ $, such that satisfies the following axioms:\n",
    "1. Associative:\n",
    "$$\\forall a,\\ b,\\ c\\ \\in G\\ \\ \\ a\\circ \\left( b\\circ c \\right)=\\left( a\\circ b \\right)\\circ c$$\n",
    "2. Identity element:\n",
    "$$\\exists e\\in G\\ \\ \\forall a\\in G\\ \\ \\ a\\circ e=e\\circ a=a$$\n",
    "3. Inverse element:\n",
    "$$\\forall a\\in G\\ \\ \\ \\exists {a}'\\in G\\ \\ a\\circ {a}'={a}'\\circ a=e$$\n",
    "\n",
    "**Abelian group**\n",
    "\n",
    "A group $\\left( G,\\circ  \\right)$ is called abelian iff\n",
    "$$\\forall a,\\ b\\in G\\ \\ \\ a\\circ b=b\\circ a$$"
   ]
  },
  {
   "cell_type": "markdown",
   "metadata": {},
   "source": [
    "### Examples:\n",
    "\n",
    "1. The real numbers $\\mathbb{R}$, with the usual addition form an abelian group. \n",
    "2. The Rational numbers $\\mathbb{Q}=\\left\\{ \\left. a/b \\right|\\ a,b\\in \\mathbb{R},\\ b\\ne 0 \\right\\}$, with the usual addition form an abelian group. \n",
    "3. The complex numbers $\\mathbb{C}=\\left\\{ \\left. a+bi \\right|\\ a,b\\in \\mathbb{R},\\ {{i}^{2}}=-1 \\right\\}$ with the usual addition form an abelian group. \n",
    "* Recall that for ${{z}_{1}}={{a}_{1}}+{{b}_{1}}i,\\ {{z}_{2}}={{a}_{2}}+{{b}_{2}}i\\ \\in \\ \\mathbb{C}\\ $ define addition as:\n",
    "$${{z}_{1}}+{{z}_{2}}=\\left( {{a}_{1}}+{{a}_{2}} \\right)+\\left( {{b}_{1}}+{{b}_{2}} \\right)i\\ \\in \\ \\mathbb{C}\\ $$"
   ]
  }
 ],
 "metadata": {
  "colab": {
   "authorship_tag": "ABX9TyNwv1rKlEljX98UumI/Vxsz",
   "name": "01 pythonSam.ipynb",
   "provenance": []
  },
  "kernelspec": {
   "display_name": "Python 3",
   "language": "python",
   "name": "python3"
  },
  "language_info": {
   "codemirror_mode": {
    "name": "ipython",
    "version": 3
   },
   "file_extension": ".py",
   "mimetype": "text/x-python",
   "name": "python",
   "nbconvert_exporter": "python",
   "pygments_lexer": "ipython3",
   "version": "3.8.3"
  }
 },
 "nbformat": 4,
 "nbformat_minor": 4
}
