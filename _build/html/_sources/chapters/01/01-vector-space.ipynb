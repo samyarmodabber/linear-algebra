{
 "cells": [
  {
   "cell_type": "markdown",
   "metadata": {},
   "source": [
    "# Vector Space"
   ]
  },
  {
   "cell_type": "markdown",
   "metadata": {},
   "source": [
    "## Definitions\n",
    "**Vector Space**\n",
    "\n",
    "A vector space over a field $F$ (slalers) is a set $V$ (vectors) together with two operations, addition (vector addition)$+:V\\times V\\to V$ and multiplication (scalar multiplication) $\\cdot :F\\times V\\to V$ such that:\n",
    "1. $\\left( V,+ \\right)$ is an abelian group.\n",
    "2. Compatibility:\n",
    "\n",
    "$$\\forall a,\\ b\\ \\in F\\ \\forall v\\in V\\ \\ \\ \\ a\\left( bv \\right)=\\left( ab \\right)v$$\n",
    "3. Identity:\n",
    "\n",
    "$$\\ \\forall v\\in V\\ \\ \\ \\ 1v=v\\,\\,\\,\\,\\,st\\ \\ 1={{1}_{F}}\\ \\in F$$\n",
    "4. Distributivity:\n",
    "\n",
    "$$\\forall a,\\ b\\ \\in F\\ \\forall u,v\\in V\\ \\ \\ \\ a\\left( u+v \\right)=au+av\\ \\ \\ \\wedge \\ \\ \\ \\left( a+b \\right)v=av+bv$$"
   ]
  },
  {
   "cell_type": "markdown",
   "metadata": {},
   "source": [
    "## Examples\n",
    "1. The real numbers $\\mathbb{R}$, with the usual addition and multiplication form a field. \n",
    "2. The Rational numbers $\\mathbb{Q}$, with the usual addition and multiplication form a field.\n",
    "3. The complex numbers $\\mathbb{C}$ with the usual addition and multiplication form a field. \n",
    "\n",
    "Recall that for ${{z}_{1}}={{a}_{1}}+{{b}_{1}}i,\\ {{z}_{2}}={{a}_{2}}+{{b}_{2}}i\\ \\in \\ \\mathbb{C}\\ $ define multiplication as:\n",
    "\n",
    "$${{z}_{1}}{{z}_{2}}=\\left( {{a}_{1}}{{a}_{2}}-{{b}_{1}}{{b}_{2}} \\right)+\\left( {{a}_{1}}{{b}_{2}}+{{a}_{2}}{{b}_{1}} \\right)i\\ \\in \\ \\mathbb{C}\\ $$"
   ]
  }
 ],
 "metadata": {
  "colab": {
   "authorship_tag": "ABX9TyNwv1rKlEljX98UumI/Vxsz",
   "name": "01 pythonSam.ipynb",
   "provenance": []
  },
  "kernelspec": {
   "display_name": "Python 3",
   "language": "python",
   "name": "python3"
  },
  "language_info": {
   "codemirror_mode": {
    "name": "ipython",
    "version": 3
   },
   "file_extension": ".py",
   "mimetype": "text/x-python",
   "name": "python",
   "nbconvert_exporter": "python",
   "pygments_lexer": "ipython3",
   "version": "3.8.3"
  }
 },
 "nbformat": 4,
 "nbformat_minor": 4
}
