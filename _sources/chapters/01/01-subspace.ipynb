{
 "cells": [
  {
   "cell_type": "markdown",
   "metadata": {},
   "source": [
    "# Subspace"
   ]
  },
  {
   "cell_type": "markdown",
   "metadata": {},
   "source": [
    "In this section we consider the vector space $\\left( V,F,+,\\cdot  \\right)$ while we write $V$."
   ]
  },
  {
   "cell_type": "markdown",
   "metadata": {},
   "source": [
    "## Definition\n",
    " \n",
    "**Subspace** \n",
    "\n",
    "Let $V$ be a vector space. $W\\subseteq V$is called a subspace of $V$if $\\left( W,F,+,\\cdot  \\right)$ be a vector space.\n",
    "\n",
    "Theorem\n",
    "Let $V$be a vector space and $W\\subseteq V$. $W$ is a subspace of $V$iff the following two conditions hold:\n",
    "1.\t$0\\in W$\n",
    "2.\t$\\forall a\\in F\\ \\ \\forall u,v\\in W\\ \\ \\ \\ au+v\\in W.$"
   ]
  },
  {
   "cell_type": "markdown",
   "metadata": {},
   "source": [
    "## Theorem\n",
    "\n",
    "Let $V$be a vector space and $\\left\\{ {{W}_{i}} \\right\\}_{i=1}^{\\infty }$ be a family of the subspace of $V$ then $\\bigcap\\limits_{i=1}^{\\infty }{{{W}_{i}}}$ ia a subspace of $V$.\n"
   ]
  },
  {
   "cell_type": "markdown",
   "metadata": {},
   "source": [
    "## Definition\n",
    "\n",
    "**Sum**\n",
    "\n",
    "If ${{S}_{1}},\\ {{S}_{2}}$ are two nonempty subset of $V$ then sum of  ${{S}_{1}},\\ {{S}_{2}}$ denote by ${{S}_{1}},\\ {{S}_{2}}$ and define by\n",
    "\n",
    "$${{S}_{1}}+{{S}_{2}}=\\left\\{ {{s}_{1}}+{{s}_{2}}\\left| {{s}_{i}}\\in {{S}_{1}}\\ for\\ i=1,2 \\right. \\right\\}$$\n",
    "\n",
    "**Direct sum**\n",
    "\n",
    "If ${{W}_{1}},\\ {{W}_{2}}$ are two subspace of $V$ then $W$ is called the direct sum of ${{W}_{1}},\\ {{W}_{2}}$ and denote $W$ by ${{W}_{1}}\\oplus {{W}_{2}}$ if\n",
    "\n",
    "$$\\forall w\\in W\\ \\ \\ \\exists !\\ {{w}_{1}}\\in {{W}_{1}},\\ {{w}_{2}}\\in {{W}_{2}}\\ \\ \\ w={{w}_{1}}+{{w}_{2}}$$"
   ]
  },
  {
   "cell_type": "markdown",
   "metadata": {},
   "source": [
    "## Theorem\n",
    "Let ${{W}_{1}},\\ {{W}_{2}}$ be subspaces of $V$ then ${{W}_{1}}\\oplus {{W}_{2}}$ is a subspace of $V$."
   ]
  },
  {
   "cell_type": "markdown",
   "metadata": {},
   "source": [
    "## Theorem\n",
    "Let ${{W}_{1}},\\ {{W}_{2}}$ be subspaces of $\\left( V,F,+,\\cdot  \\right)$ and $W={{W}_{1}}+{{W}_{2}}$then $W={{W}_{1}}\\oplus {{W}_{2}}$  iff one of the following two conditions holds:\n",
    "1.\t$\\forall {{w}_{1}}\\in {{W}_{1}},\\ {{w}_{2}}\\in {{W}_{2}}\\ \\ \\ {{w}_{1}}+{{w}_{2}}=0\\ \\Rightarrow {{w}_{1}}={{w}_{2}}=0$\n",
    "2.\t${{W}_{1}}\\bigcap {{W}_{2}}=\\left\\{ 0 \\right\\}$"
   ]
  },
  {
   "cell_type": "markdown",
   "metadata": {},
   "source": [
    "## Definition\n",
    "\n",
    "**Coset**\n",
    "\n",
    "If $W$ be a subspace of $V$ and $v\\in V$ then $\\left\\{ v \\right\\}+W$ is called the coset of $W$ containing $v$and denote $v+W$(or simply $\\left[ v \\right]$).\n",
    "\n",
    "**Quotient**\n",
    "\n",
    "The quotient of $V$by a subspace $W$is denote by ${}^{V}/{}_{W}$(read  $V$ mod $W$ or $V$ by $W$) and define by\n",
    "${}^{V}/{}_{W}=\\left\\{ \\left[ v \\right]\\left| v\\in V \\right. \\right\\}$"
   ]
  },
  {
   "cell_type": "markdown",
   "metadata": {},
   "source": [
    "## Theorem\n",
    "\n",
    "Let $V$ be a vector space, $W$be a subspace of $V$and $v,u\\in V$, then\n",
    "1.\t$v+W$ be a coset of $V$iff $v\\in W$.\n",
    "2.\t$v+W=u+W$ iff $v-u\\in W$"
   ]
  },
  {
   "cell_type": "markdown",
   "metadata": {},
   "source": [
    "### Theorem\n",
    "The quotient of $V$by a subspace $W$is a vector space with following operators:\n",
    "\n",
    "$$\\forall a\\in F\\ \\ \\ \\forall \\left[ v \\right],\\ \\left[ u \\right]\\ \\in {}^{V}/{}_{W}\\ \\ \\ \\ \\left[ v \\right]+\\left[ u \\right]=\\left[ v+u \\right]\\ \\ \\ \\ a\\left[ v \\right]=\\left[ av \\right]$$"
   ]
  }
 ],
 "metadata": {
  "colab": {
   "authorship_tag": "ABX9TyNwv1rKlEljX98UumI/Vxsz",
   "name": "01 pythonSam.ipynb",
   "provenance": []
  },
  "kernelspec": {
   "display_name": "Python 3",
   "language": "python",
   "name": "python3"
  },
  "language_info": {
   "codemirror_mode": {
    "name": "ipython",
    "version": 3
   },
   "file_extension": ".py",
   "mimetype": "text/x-python",
   "name": "python",
   "nbconvert_exporter": "python",
   "pygments_lexer": "ipython3",
   "version": "3.8.3"
  }
 },
 "nbformat": 4,
 "nbformat_minor": 4
}
