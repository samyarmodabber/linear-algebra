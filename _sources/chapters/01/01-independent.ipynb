{
 "cells": [
  {
   "cell_type": "markdown",
   "metadata": {},
   "source": [
    "# Independent"
   ]
  },
  {
   "cell_type": "markdown",
   "metadata": {},
   "source": [
    "In this section we consider the vector space $\\left( V,F,+,\\cdot  \\right)$ while we write $V$."
   ]
  },
  {
   "cell_type": "markdown",
   "metadata": {},
   "source": [
    "## Deﬁnition \n",
    "\n",
    "**Collinear**\n",
    "\n",
    "Two vector $u,\\ v\\in V$are callde collinear and denote$v\\sim u$ if one is a scalar multiple of the other, i.e.\n",
    "$\\exists a\\in F\\ \\ \\ v=au$.\n",
    "\n",
    "**Independent**\n",
    "\n",
    "The vectors ${{v}_{1}},{{v}_{2}},...,{{v}_{n}}\\in V$ are called independent (linearly independent) if,\n",
    "\n",
    "$$\\forall {{a}_{1}},{{a}_{2}},\\cdots ,{{a}_{n}}\\in F\\ \\ st\\ \\ \\ {{a}_{1}}{{v}_{1}}+{{a}_{2}}{{v}_{2}}+\\cdots +{{a}_{n}}{{v}_{n}}=0\\ \\ \\Rightarrow \\ \\forall i\\ \\ \\ {{a}_{i}}\\ =0$$\n",
    "\n",
    "**Dependent**\n",
    "\n",
    "The vectors ${{v}_{1}},{{v}_{2}},...,{{v}_{n}}\\in V$ are called dependent (linearly dependent) if\n",
    "\n",
    "$$\\exists {{a}_{1}},{{a}_{2}},\\cdots ,{{a}_{n}}\\in F\\ \\ st\\ \\ \\exists i\\ \\ \\ {{a}_{i}}\\ \\ne 0\\ ,\\ \\ \\ {{a}_{1}}{{v}_{1}}+{{a}_{2}}{{v}_{2}}+\\cdots +{{a}_{n}}{{v}_{n}}=0$$\n",
    "\n",
    "A set S of vectors is called (in)dependent, if its vectors are (in)dependent."
   ]
  },
  {
   "cell_type": "markdown",
   "metadata": {},
   "source": [
    "## Excecise:\n",
    "Let $\\left( V,F,+,\\cdot  \\right)$be a vector space and $S\\subseteq V$, prove that:\n",
    "1.\t$u,\\ v\\in V$ are linearly dependent iff $v\\sim u$ .\n",
    "2.\tIf $0\\in S$then $S$is linearly dependent.\n",
    "3.\tIf $S$is linearly dependent and $S\\subseteq {S}'\\subseteq V$ then ${S}'$ is linearly dependent.\n",
    "4.\t$S$ is linearly dependent iff one of the vectors is in the span of the other ones.i.e.\n",
    "\t$\\exists v\\in S\\ \\ \\ s.t.\\ \\ v\\in span\\left( S-\\left\\{ v \\right\\} \\right)$\n"
   ]
  },
  {
   "cell_type": "code",
   "execution_count": null,
   "metadata": {},
   "outputs": [],
   "source": []
  }
 ],
 "metadata": {
  "colab": {
   "authorship_tag": "ABX9TyNwv1rKlEljX98UumI/Vxsz",
   "name": "01 pythonSam.ipynb",
   "provenance": []
  },
  "kernelspec": {
   "display_name": "Python 3",
   "language": "python",
   "name": "python3"
  },
  "language_info": {
   "codemirror_mode": {
    "name": "ipython",
    "version": 3
   },
   "file_extension": ".py",
   "mimetype": "text/x-python",
   "name": "python",
   "nbconvert_exporter": "python",
   "pygments_lexer": "ipython3",
   "version": "3.8.3"
  }
 },
 "nbformat": 4,
 "nbformat_minor": 4
}
