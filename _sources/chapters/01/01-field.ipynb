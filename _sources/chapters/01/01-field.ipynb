{
 "cells": [
  {
   "cell_type": "markdown",
   "metadata": {},
   "source": [
    "# Field"
   ]
  },
  {
   "cell_type": "markdown",
   "metadata": {},
   "source": [
    "## Definition\n",
    "**Field**\n",
    "\n",
    "A field is a set F together with two binary operations on F called addition + and multiplication and $\\exists 0\\in F\\ \\ \\exists 1\\in F\\ \\ \\ 0\\ne 1$ such that:\n",
    "1. $\\left( F,+ \\right)$ is an abelian group with 0 as the identity.\n",
    "2. $\\left( F-\\left\\{ 0 \\right\\},* \\right)$ is an abelian group with 1 as the identity.\n",
    "3. Distributivity:\n",
    "\n",
    "$$\\forall a,\\ b,c\\ \\in F\\ \\ a*\\left( b+c \\right)=a*b+a*c$$"
   ]
  },
  {
   "cell_type": "markdown",
   "metadata": {},
   "source": [
    "## Examples:\n",
    "1. The real numbers $\\mathbb{R}$, with the usual addition and multiplication form a field. \n",
    "2. The Rational numbers $\\mathbb{Q}$, with the usual addition and multiplication form a field.\n",
    "3. The complex numbers $\\mathbb{C}$ with the usual addition and multiplication form a field. \n",
    "\n",
    "Recall that for ${{z}_{1}}={{a}_{1}}+{{b}_{1}}i,\\ {{z}_{2}}={{a}_{2}}+{{b}_{2}}i\\ \\in \\ \\mathbb{C}\\ $ define multiplication as:\n",
    "\n",
    "$${{z}_{1}}{{z}_{2}}=\\left( {{a}_{1}}{{a}_{2}}-{{b}_{1}}{{b}_{2}} \\right)+\\left( {{a}_{1}}{{b}_{2}}+{{a}_{2}}{{b}_{1}} \\right)i\\ \\in \\ \\mathbb{C}\\ $$"
   ]
  },
  {
   "cell_type": "code",
   "execution_count": null,
   "metadata": {},
   "outputs": [],
   "source": []
  }
 ],
 "metadata": {
  "colab": {
   "authorship_tag": "ABX9TyNwv1rKlEljX98UumI/Vxsz",
   "name": "01 pythonSam.ipynb",
   "provenance": []
  },
  "kernelspec": {
   "display_name": "Python 3",
   "language": "python",
   "name": "python3"
  },
  "language_info": {
   "codemirror_mode": {
    "name": "ipython",
    "version": 3
   },
   "file_extension": ".py",
   "mimetype": "text/x-python",
   "name": "python",
   "nbconvert_exporter": "python",
   "pygments_lexer": "ipython3",
   "version": "3.8.3"
  }
 },
 "nbformat": 4,
 "nbformat_minor": 4
}
