{
 "cells": [
  {
   "cell_type": "markdown",
   "metadata": {},
   "source": [
    "# Span"
   ]
  },
  {
   "cell_type": "markdown",
   "metadata": {},
   "source": [
    "In this section we consider the vector space $\\left( V,F,+,\\cdot  \\right)$ while we write $V$."
   ]
  },
  {
   "cell_type": "markdown",
   "metadata": {},
   "source": [
    "## Definition\n",
    "\n",
    "**Linear Combination**\n",
    "\n",
    "For any $n\\in \\mathbb{N}$, the vector$\\sum\\limits_{i=1}^{n}{{{a}_{i}}{{v}_{i}}}={{a}_{1}}{{v}_{1}}+{{a}_{2}}{{v}_{2}}+\\cdots +{{a}_{n}}{{v}_{n}}$is called the linear combination of vectors ${{v}_{1}},{{v}_{2}},...,{{v}_{n}}\\in V$with scalars ${{a}_{1}},{{a}_{2}},...,{{a}_{n}}\\in F$ as coefficients.\n",
    "\n",
    "**Span**\n",
    "\n",
    "For $S\\subseteq V$ the span of $S$ is define by: \n",
    "\n",
    "$$span\\left( S \\right):=\\left\\{ \\left. \\sum\\limits_{i=1}^{n}{{{a}_{i}}{{v}_{i}}} \\right|n\\in \\mathbb{N},\\forall i\\ {{a}_{i}}\\in F\\ ,\\ {{v}_{i}}\\in V \\right\\}$$"
   ]
  },
  {
   "cell_type": "markdown",
   "metadata": {},
   "source": [
    "## Theorem\n",
    "\n",
    "If $S\\subseteq V$then\n",
    "1.\t$span\\left( S \\right)$ is a subspace of $V$.\n",
    "2.\t$span\\left( S \\right)=\\bigcap\\limits_{S\\subseteq W}{W}$"
   ]
  },
  {
   "cell_type": "code",
   "execution_count": null,
   "metadata": {},
   "outputs": [],
   "source": []
  }
 ],
 "metadata": {
  "colab": {
   "authorship_tag": "ABX9TyNwv1rKlEljX98UumI/Vxsz",
   "name": "01 pythonSam.ipynb",
   "provenance": []
  },
  "kernelspec": {
   "display_name": "Python 3",
   "language": "python",
   "name": "python3"
  },
  "language_info": {
   "codemirror_mode": {
    "name": "ipython",
    "version": 3
   },
   "file_extension": ".py",
   "mimetype": "text/x-python",
   "name": "python",
   "nbconvert_exporter": "python",
   "pygments_lexer": "ipython3",
   "version": "3.8.3"
  }
 },
 "nbformat": 4,
 "nbformat_minor": 4
}
